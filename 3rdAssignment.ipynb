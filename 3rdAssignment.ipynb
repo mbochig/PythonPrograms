{
  "nbformat": 4,
  "nbformat_minor": 0,
  "metadata": {
    "kernelspec": {
      "display_name": "Python 3",
      "language": "python",
      "name": "python3"
    },
    "language_info": {
      "codemirror_mode": {
        "name": "ipython",
        "version": 3
      },
      "file_extension": ".py",
      "mimetype": "text/x-python",
      "name": "python",
      "nbconvert_exporter": "python",
      "pygments_lexer": "ipython3",
      "version": "3.8.5"
    },
    "colab": {
      "name": "3rdAssignment.ipynb",
      "provenance": [],
      "collapsed_sections": [],
      "include_colab_link": true
    }
  },
  "cells": [
    {
      "cell_type": "markdown",
      "metadata": {
        "id": "view-in-github",
        "colab_type": "text"
      },
      "source": [
        "<a href=\"https://colab.research.google.com/github/mbochig/PythonPrograms/blob/main/3rdAssignment.ipynb\" target=\"_parent\"><img src=\"https://colab.research.google.com/assets/colab-badge.svg\" alt=\"Open In Colab\"/></a>"
      ]
    },
    {
      "cell_type": "code",
      "metadata": {
        "id": "7q1vfw7Mhmf8",
        "colab": {
          "base_uri": "https://localhost:8080/"
        },
        "outputId": "42eca1cc-0a30-4f0a-d229-e6c539799ece"
      },
      "source": [
        "#........ and shoot for the Sky in you getting a big promotion & opportunity\n",
        "#Enter Full Names\n",
        "print(\"Enter First and Last Name:\")\n",
        "fname = input('First Name: ') #First Name\n",
        "lname = input('Last Name: ') #last Name\n",
        "fullnames = fname + \" \" + lname\n",
        "\n",
        "#Enter  phone, email\n",
        "print(\"Enter Customer's Phone Number: \")\n",
        "phone = input('phone')\n",
        "print(\"Enter Customer's email address: \")\n",
        "email = input('Email:')\n",
        "\n",
        "# enter price of a used car\n",
        "price = 10000\n",
        "has_good_credit = True\n",
        "\n",
        "if has_good_credit:\n",
        "    down_payment = 0.1 * price\n",
        "else:\n",
        "    down_payment = 0.2 * price\n",
        "\n",
        "print(\"fDown Payment: {down_payment}\")\n",
        "print('')\n",
        "print(\"Full Names:\" +fullnames)\n",
        "print(\"Phone: \" +phone)\n",
        "print(\"Email: \" +email)\n",
        "print(\"Down Payment: \", down_payment)"
      ],
      "execution_count": 4,
      "outputs": [
        {
          "output_type": "stream",
          "text": [
            "Enter First and Last Name:\n",
            "First Name: Grace\n",
            "Last Name: Mbochi\n",
            "Enter Customer's Phone Number: \n",
            "phone5564-56-5674\n",
            "Enter Customer's email address: \n",
            "Email:morrisjones@gmail.com\n",
            "fDown Payment: {down_payment}\n",
            "\n",
            "Full Names:Grace Mbochi\n",
            "Phone: 5564-56-5674\n",
            "Email: morrisjones@gmail.com\n",
            "Down Payment:  1000.0\n"
          ],
          "name": "stdout"
        }
      ]
    }
  ]
}